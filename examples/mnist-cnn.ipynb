{
 "cells": [
  {
   "cell_type": "markdown",
   "metadata": {
    "collapsed": true
   },
   "source": [
    "# A simple handwritten digit classifier"
   ]
  },
  {
   "cell_type": "markdown",
   "metadata": {},
   "source": [
    "The following example shows how to create a convolutional neural network using the framework and train on the [MNIST](http://yann.lecun.com/exdb/mnist/) dataset."
   ]
  },
  {
   "cell_type": "markdown",
   "metadata": {},
   "source": [
    "## Importing all the necessary libraries"
   ]
  },
  {
   "cell_type": "markdown",
   "metadata": {},
   "source": [
    "Import the DL package."
   ]
  },
  {
   "cell_type": "code",
   "execution_count": 1,
   "metadata": {},
   "outputs": [],
   "source": [
    "import revgraph.dl as dl"
   ]
  },
  {
   "cell_type": "markdown",
   "metadata": {},
   "source": [
    "The library also ships with the mnist dataset for users to mess around with it."
   ]
  },
  {
   "cell_type": "code",
   "execution_count": 2,
   "metadata": {},
   "outputs": [],
   "source": [
    "import revgraph.datasets.mnist as mnist"
   ]
  },
  {
   "cell_type": "markdown",
   "metadata": {},
   "source": [
    "Also `matplotlib` for visualization"
   ]
  },
  {
   "cell_type": "code",
   "execution_count": 3,
   "metadata": {},
   "outputs": [],
   "source": [
    "import matplotlib.pyplot as plt"
   ]
  },
  {
   "cell_type": "markdown",
   "metadata": {},
   "source": [
    "Enable inline plot"
   ]
  },
  {
   "cell_type": "code",
   "execution_count": 4,
   "metadata": {},
   "outputs": [],
   "source": [
    "%matplotlib inline"
   ]
  },
  {
   "cell_type": "markdown",
   "metadata": {},
   "source": [
    "And `numpy` for a little bit of processing"
   ]
  },
  {
   "cell_type": "code",
   "execution_count": 5,
   "metadata": {},
   "outputs": [],
   "source": [
    "import numpy as np"
   ]
  },
  {
   "cell_type": "markdown",
   "metadata": {},
   "source": [
    "Initialize `numpy.random` with seed 42"
   ]
  },
  {
   "cell_type": "code",
   "execution_count": 6,
   "metadata": {},
   "outputs": [],
   "source": [
    "np.random.seed(42)"
   ]
  },
  {
   "cell_type": "markdown",
   "metadata": {},
   "source": [
    "## Loading the dataset"
   ]
  },
  {
   "cell_type": "code",
   "execution_count": 7,
   "metadata": {},
   "outputs": [],
   "source": [
    "(x_train, y_train), (x_test, y_test) = mnist.load_data()"
   ]
  },
  {
   "cell_type": "markdown",
   "metadata": {},
   "source": [
    "## Defining the model"
   ]
  },
  {
   "cell_type": "markdown",
   "metadata": {},
   "source": [
    "Just a random CNN configuration..."
   ]
  },
  {
   "cell_type": "code",
   "execution_count": 8,
   "metadata": {},
   "outputs": [],
   "source": [
    "layers = dl.sequential(\n",
    "    dl.inputs(784),\n",
    "    dl.reshape((28, 28, 1)),\n",
    "    dl.conv2d(\n",
    "        filters=12,\n",
    "        kernel_size=(3,3),\n",
    "        padding='same',\n",
    "        activation='relu',\n",
    "        use_bias=True,\n",
    "        kernel_regularizer=dl.l1(),\n",
    "        bias_regularizer=dl.l1(),\n",
    "        bias_initializer='zeros'\n",
    "    ),\n",
    "    dl.flatten(),\n",
    "    dl.dense(\n",
    "        units=128,\n",
    "        activation='relu',\n",
    "        use_bias=True,\n",
    "        kernel_regularizer=dl.l1(),\n",
    "        bias_regularizer=dl.l1()\n",
    "    ),\n",
    "    dl.dense(\n",
    "        units=10,\n",
    "        activation='softmax',\n",
    "        use_bias=True,\n",
    "        kernel_regularizer=dl.l1(),\n",
    "        bias_regularizer=dl.l1()\n",
    "    )\n",
    ")"
   ]
  },
  {
   "cell_type": "markdown",
   "metadata": {},
   "source": [
    "Bind the layers with the loss function, optimizer and metrics."
   ]
  },
  {
   "cell_type": "code",
   "execution_count": 9,
   "metadata": {},
   "outputs": [],
   "source": [
    "model = dl.Model(\n",
    "    model=layers,\n",
    "    loss=dl.categorical_cross_entropy(),\n",
    "    optimizer=dl.adam(lr=0.01, decay=0.01),\n",
    "    metrics={ 'Accuracy': dl.categorical_accuracy() }\n",
    ")"
   ]
  },
  {
   "cell_type": "markdown",
   "metadata": {},
   "source": [
    "Now we \"compile\" the model to a computational graph"
   ]
  },
  {
   "cell_type": "code",
   "execution_count": 10,
   "metadata": {},
   "outputs": [
    {
     "data": {
      "text/plain": [
       "<revgraph.dl.model.model.Model at 0x116aecc10>"
      ]
     },
     "execution_count": 10,
     "metadata": {},
     "output_type": "execute_result"
    }
   ],
   "source": [
    "model.compile()"
   ]
  },
  {
   "cell_type": "markdown",
   "metadata": {},
   "source": [
    "## Training the model"
   ]
  },
  {
   "cell_type": "markdown",
   "metadata": {},
   "source": [
    "Note that the validation set used is the remaining 15% of `(x_train, y_train)`, while the test set is stored in completely different variables `(x_test, y_test)`."
   ]
  },
  {
   "cell_type": "code",
   "execution_count": 11,
   "metadata": {
    "scrolled": true
   },
   "outputs": [
    {
     "name": "stdout",
     "output_type": "stream",
     "text": [
      "Training Model tensor(addr=0x116414e50) with 51000 records\n",
      "  + Epoch 1/3\n",
      "    [##########] (100.0%)\n",
      "    Time Elapsed: 96.155s\n",
      "    Validation Accuracy: 0.9758888888888889\n",
      "  + Epoch 2/3\n",
      "    [##########] (100.0%)\n",
      "    Time Elapsed: 94.594s\n",
      "    Validation Accuracy: 0.9803333333333333\n",
      "  + Epoch 3/3\n",
      "    [##########] (100.0%)\n",
      "    Time Elapsed: 94.006s\n",
      "    Validation Accuracy: 0.9827777777777778\n",
      "Training Completed.\n",
      "Total Time Elapsed: 324.236s\n",
      "Test Accuracy: 0.981\n"
     ]
    }
   ],
   "source": [
    "model.fit(\n",
    "    x_train,\n",
    "    y_train,\n",
    "    epochs=3,\n",
    "    batch_size=500,\n",
    "    train_test_validation=(0.85, 0, 0.15),\n",
    "    callbacks=[\n",
    "        dl.callbacks.progress(),\n",
    "        dl.callbacks.validation(),\n",
    "        dl.callbacks.test(x_test=x_test, y_test=y_test)\n",
    "    ]\n",
    ")"
   ]
  },
  {
   "cell_type": "markdown",
   "metadata": {},
   "source": [
    "98.1% Accuracy! Not bad I guess."
   ]
  },
  {
   "cell_type": "markdown",
   "metadata": {},
   "source": [
    "## Visualizing the results"
   ]
  },
  {
   "cell_type": "markdown",
   "metadata": {},
   "source": [
    "Randomly sample 20 images"
   ]
  },
  {
   "cell_type": "code",
   "execution_count": 12,
   "metadata": {},
   "outputs": [],
   "source": [
    "w, h = 4, 5\n",
    "indices = np.random.choice([i for i in range(10000)], w*h)\n",
    "images = map(lambda i: x_test[i], indices)"
   ]
  },
  {
   "cell_type": "markdown",
   "metadata": {},
   "source": [
    "Creating the plot"
   ]
  },
  {
   "cell_type": "code",
   "execution_count": 13,
   "metadata": {
    "scrolled": false
   },
   "outputs": [
    {
     "data": {
      "image/png": "[encoded data removed]",
      "text/plain": [
       "<Figure size 432x432 with 20 Axes>"
      ]
     },
     "metadata": {
      "needs_background": "light"
     },
     "output_type": "display_data"
    }
   ],
   "source": [
    "fig = plt.figure(figsize=(6, 6))\n",
    "for i, image in zip(range(1, w*h+1), images):\n",
    "    subplot = fig.add_subplot(w, h, i)\n",
    "    pred = model.predict_one(image)\n",
    "    digit = np.argmax(pred)\n",
    "    subplot.set_title(digit, fontsize=16)\n",
    "    subplot.axis('off')\n",
    "    plt.imshow(image.reshape(28, 28))"
   ]
  },
  {
   "cell_type": "markdown",
   "metadata": {},
   "source": [
    "Nice :)"
   ]
  }
 ],
 "metadata": {
  "kernelspec": {
   "display_name": "Python 3",
   "language": "python",
   "name": "python3"
  },
  "language_info": {
   "codemirror_mode": {
    "name": "ipython",
    "version": 3
   },
   "file_extension": ".py",
   "mimetype": "text/x-python",
   "name": "python",
   "nbconvert_exporter": "python",
   "pygments_lexer": "ipython3",
   "version": "3.7.7"
  },
  "pycharm": {
   "stem_cell": {
    "cell_type": "raw",
    "metadata": {
     "collapsed": false
    },
    "source": []
   }
  }
 },
 "nbformat": 4,
 "nbformat_minor": 1
}
